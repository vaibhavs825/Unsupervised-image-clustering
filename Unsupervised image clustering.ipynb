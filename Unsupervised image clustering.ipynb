{
  "nbformat": 4,
  "nbformat_minor": 0,
  "metadata": {
    "colab": {
      "name": "Untitled.ipynb",
      "version": "0.3.2",
      "provenance": [],
      "include_colab_link": true
    },
    "language_info": {
      "codemirror_mode": {
        "name": "ipython",
        "version": 3
      },
      "file_extension": ".py",
      "mimetype": "text/x-python",
      "name": "python",
      "nbconvert_exporter": "python",
      "pygments_lexer": "ipython3",
      "version": "3.6.3"
    },
    "kernelspec": {
      "display_name": "Python 3",
      "language": "python",
      "name": "python3"
    }
  },
  "cells": [
    {
      "cell_type": "markdown",
      "metadata": {
        "id": "view-in-github",
        "colab_type": "text"
      },
      "source": [
        "<a href=\"https://colab.research.google.com/github/vaibhavs825/Unsupervised-image-clustering/blob/master/Unsupervised%20image%20clustering.ipynb\" target=\"_parent\"><img src=\"https://colab.research.google.com/assets/colab-badge.svg\" alt=\"Open In Colab\"/></a>"
      ]
    },
    {
      "metadata": {
        "id": "U3AxWwW8BLgs",
        "colab_type": "code",
        "colab": {
          "base_uri": "https://localhost:8080/",
          "height": 34
        },
        "outputId": "62bc981a-3403-4019-ff7f-7397a3df454a"
      },
      "cell_type": "code",
      "source": [
        "import argparse\n",
        "import csv\n",
        "import os\n",
        "import sys\n",
        "import matplotlib\n",
        "import matplotlib.pyplot as plt\n",
        "import functools\n",
        "from keras import applications\n",
        "from keras.applications.resnet50 import preprocess_input\n",
        "from keras.preprocessing import image\n",
        "import numpy as np\n",
        "import pandas\n",
        "from sklearn import (\n",
        "    decomposition,\n",
        "    manifold,\n",
        "    pipeline,\n",
        ")\n",
        "\n"
      ],
      "execution_count": 2,
      "outputs": [
        {
          "output_type": "stream",
          "text": [
            "Using TensorFlow backend.\n"
          ],
          "name": "stderr"
        }
      ]
    },
    {
      "metadata": {
        "id": "M0-TqVCmKANO",
        "colab_type": "text"
      },
      "cell_type": "markdown",
      "source": [
        "FEATURE EXTRACTION "
      ]
    },
    {
      "metadata": {
        "id": "0zW8vRQ_BLhB",
        "colab_type": "code",
        "colab": {}
      },
      "cell_type": "code",
      "source": [
        "def get_feature(model, metadata):\n",
        "    print('{}'.format(metadata['id']))\n",
        "    try:\n",
        "        img_path = os.path.join('images', metadata['image'])\n",
        "        if os.path.isfile(img_path):\n",
        "            #print('is file: {}'.format(img_path))\n",
        "            try:\n",
        "                # load image setting the image size to 224 x 224\n",
        "                img = image.load_img(img_path, target_size=(224, 224))\n",
        "                # convert image to numpy array\n",
        "                x = image.img_to_array(img)\n",
        "                # the image is now in an array of shape (3, 224, 224)\n",
        "                # but we need to expand it to (1, 2, 224, 224) as Keras is expecting a list of images\n",
        "                x = np.expand_dims(x, axis=0)\n",
        "                x = preprocess_input(x)\n",
        "                \n",
        "                #model = applications.resnet50.ResNet50(weights='imagenet', include_top=False, pooling='avg')\n",
        "                # extract the features\n",
        "                features = model.predict(x)[0]\n",
        "                # convert from Numpy to a list of values\n",
        "                features_arr = np.char.mod('%f', features)\n",
        "\n",
        "                return {\"id\": metadata['id'], \"features\": ','.join(features_arr)}\n",
        "            except Exception as ex:\n",
        "                # skip all exceptions for now\n",
        "                print(ex)\n",
        "                pass\n",
        "    except Exception as ex:\n",
        "        # skip all exceptions for now\n",
        "        print(ex)\n",
        "        pass\n",
        "    return None\n"
      ],
      "execution_count": 0,
      "outputs": []
    },
    {
      "metadata": {
        "id": "UA2hRS0uGTae",
        "colab_type": "code",
        "colab": {}
      },
      "cell_type": "code",
      "source": [
        "def create_features(filename,features):\n",
        "  with open(filename, 'w') as output:\n",
        "    w = csv.DictWriter(output, fieldnames=['id', 'features'], delimiter='\\t', lineterminator='\\n')\n",
        "    w.writeheader()\n",
        "    w.writerows(features)\n"
      ],
      "execution_count": 0,
      "outputs": []
    },
    {
      "metadata": {
        "id": "-ExvV56QBLhK",
        "colab_type": "code",
        "outputId": "0c67a58e-960e-4a5a-ad4c-8eea0255a34d",
        "colab": {
          "base_uri": "https://localhost:8080/",
          "height": 2416
        }
      },
      "cell_type": "code",
      "source": [
        "data = pandas.read_csv(\"example.tsv\", sep='\\t')\n",
        "file = \"example_features_\"\n",
        "\n",
        "# RESNET\n",
        "model_resnet = applications.resnet50.ResNet50(weights='imagenet', include_top=False, pooling='avg')\n",
        "features_resnet = map(functools.partial(get_feature,model_resnet), data.T.to_dict().values())\n",
        "# remove empty entries\n",
        "features_resnet = filter(None, features_resnet)\n",
        "create_features(file+\"resnet.tsv\",features_resnet)\n",
        "\n",
        "# XCEPTION\n",
        "model_xception = applications.xception.Xception(weights='imagenet', include_top=False, pooling='avg')\n",
        "features_xception = map(functools.partial(get_feature,model_xception), data.T.to_dict().values())\n",
        "# remove empty entries\n",
        "features_xception = filter(None, features_xception)\n",
        "create_features(file+\"xception.tsv\",features_xception)\n",
        "\n",
        "# VGG-16\n",
        "model_vgg16 = applications.vgg16.VGG16(weights='imagenet', include_top=False, pooling='avg')\n",
        "features_vgg16 = map(functools.partial(get_feature,model_vgg16), data.T.to_dict().values())\n",
        "# remove empty entries\n",
        "features_vgg16 = filter(None, features_vgg16)\n",
        "create_features(file+\"vgg16.tsv\",features_vgg16)\n",
        "\n",
        "# VGG-19\n",
        "model_vgg19 = applications.vgg19.VGG19(weights='imagenet', include_top=False, pooling='avg')\n",
        "features_vgg19 = map(functools.partial(get_feature,model_vgg19), data.T.to_dict().values())\n",
        "# remove empty entries\n",
        "features_vgg19 = filter(None, features_vgg19)\n",
        "create_features(file+\"vgg19.tsv\",features_vgg19)\n",
        "\n",
        "\n",
        "# INCEPTION- V3\n",
        "model_inceptionv3 = applications.inception_v3.InceptionV3(weights='imagenet', include_top=False, pooling='avg')\n",
        "features_inceptionv3 = map(functools.partial(get_feature,model_inceptionv3), data.T.to_dict().values())\n",
        "# remove empty entries\n",
        "features_inceptionv3 = filter(None, features_inceptionv3)\n",
        "create_features(file+\"inceptionv3.tsv\",features_inceptionv3)\n",
        "\n",
        "# MOBILENET\n",
        "model_mobilenet = applications.mobilenet.MobileNet(weights='imagenet', include_top=False, pooling='avg')\n",
        "features_mobilenet = map(functools.partial(get_feature,model_mobilenet), data.T.to_dict().values())\n",
        "# remove empty entries\n",
        "features_mobilenet = filter(None, features_mobilenet)\n",
        "create_features(file+\"mobilenet.tsv\",features_mobilenet)\n",
        "\n",
        "# extract features\n",
        "\n",
        "\n"
      ],
      "execution_count": 5,
      "outputs": [
        {
          "output_type": "stream",
          "text": [
            "WARNING:tensorflow:From /usr/local/lib/python3.6/dist-packages/tensorflow/python/framework/op_def_library.py:263: colocate_with (from tensorflow.python.framework.ops) is deprecated and will be removed in a future version.\n",
            "Instructions for updating:\n",
            "Colocations handled automatically by placer.\n",
            "Downloading data from https://github.com/fchollet/deep-learning-models/releases/download/v0.2/resnet50_weights_tf_dim_ordering_tf_kernels_notop.h5\n",
            "94658560/94653016 [==============================] - 1s 0us/step\n",
            "0\n",
            "1\n",
            "2\n",
            "3\n",
            "4\n",
            "5\n",
            "6\n",
            "7\n",
            "8\n",
            "9\n",
            "10\n",
            "11\n",
            "12\n",
            "13\n",
            "14\n",
            "15\n",
            "16\n",
            "17\n",
            "18\n",
            "19\n",
            "Downloading data from https://github.com/fchollet/deep-learning-models/releases/download/v0.4/xception_weights_tf_dim_ordering_tf_kernels_notop.h5\n",
            "83689472/83683744 [==============================] - 1s 0us/step\n",
            "0\n",
            "1\n",
            "2\n",
            "3\n",
            "4\n",
            "5\n",
            "6\n",
            "7\n",
            "8\n",
            "9\n",
            "10\n",
            "11\n",
            "12\n",
            "13\n",
            "14\n",
            "15\n",
            "16\n",
            "17\n",
            "18\n",
            "19\n",
            "Downloading data from https://github.com/fchollet/deep-learning-models/releases/download/v0.1/vgg16_weights_tf_dim_ordering_tf_kernels_notop.h5\n",
            "58892288/58889256 [==============================] - 1s 0us/step\n",
            "0\n",
            "1\n",
            "2\n",
            "3\n",
            "4\n",
            "5\n",
            "6\n",
            "7\n",
            "8\n",
            "9\n",
            "10\n",
            "11\n",
            "12\n",
            "13\n",
            "14\n",
            "15\n",
            "16\n",
            "17\n",
            "18\n",
            "19\n",
            "Downloading data from https://github.com/fchollet/deep-learning-models/releases/download/v0.1/vgg19_weights_tf_dim_ordering_tf_kernels_notop.h5\n",
            "80142336/80134624 [==============================] - 1s 0us/step\n",
            "0\n",
            "1\n",
            "2\n",
            "3\n",
            "4\n",
            "5\n",
            "6\n",
            "7\n",
            "8\n",
            "9\n",
            "10\n",
            "11\n",
            "12\n",
            "13\n",
            "14\n",
            "15\n",
            "16\n",
            "17\n",
            "18\n",
            "19\n",
            "Downloading data from https://github.com/fchollet/deep-learning-models/releases/download/v0.5/inception_v3_weights_tf_dim_ordering_tf_kernels_notop.h5\n",
            "87916544/87910968 [==============================] - 1s 0us/step\n",
            "0\n",
            "1\n",
            "2\n",
            "3\n",
            "4\n",
            "5\n",
            "6\n",
            "7\n",
            "8\n",
            "9\n",
            "10\n",
            "11\n",
            "12\n",
            "13\n",
            "14\n",
            "15\n",
            "16\n",
            "17\n",
            "18\n",
            "19\n"
          ],
          "name": "stdout"
        },
        {
          "output_type": "stream",
          "text": [
            "/usr/local/lib/python3.6/dist-packages/keras_applications/mobilenet.py:208: UserWarning: MobileNet shape is undefined. Weights for input shape (224, 224) will be loaded.\n",
            "  warnings.warn('MobileNet shape is undefined.'\n"
          ],
          "name": "stderr"
        },
        {
          "output_type": "stream",
          "text": [
            "Downloading data from https://github.com/fchollet/deep-learning-models/releases/download/v0.6/mobilenet_1_0_224_tf_no_top.h5\n",
            "17227776/17225924 [==============================] - 0s 0us/step\n",
            "0\n",
            "1\n",
            "2\n",
            "3\n",
            "4\n",
            "5\n",
            "6\n",
            "7\n",
            "8\n",
            "9\n",
            "10\n",
            "11\n",
            "12\n",
            "13\n",
            "14\n",
            "15\n",
            "16\n",
            "17\n",
            "18\n",
            "19\n"
          ],
          "name": "stdout"
        }
      ]
    },
    {
      "metadata": {
        "id": "DiEbJ2JyKKXa",
        "colab_type": "text"
      },
      "cell_type": "markdown",
      "source": [
        "APPLYING TSNE/PCA/PCA-TSNE"
      ]
    },
    {
      "metadata": {
        "id": "ibZAT4CKBLhT",
        "colab_type": "code",
        "colab": {}
      },
      "cell_type": "code",
      "source": [
        "def process(data):\n",
        "    # split the comma delimited string back into a list of values\n",
        "    transformed = [d.split(',') for d in data['features']]\n",
        "\n",
        "    # convert image data to float64 matrix. float64 is need for bh_sne\n",
        "    x_data = np.asarray(transformed).astype('float64')\n",
        "    x_data = x_data.reshape((x_data.shape[0], -1))\n",
        "\n",
        "    # perform t-SNE\n",
        "    #model = manifold.TSNE(random_state=0)\n",
        "\n",
        "    #tsne = manifold.TSNE(random_state=0, perplexity=50, early_exaggeration=6.0)\n",
        "    #pca = decomposition.PCA(n_components=2)\n",
        "    #model = pipeline.Pipeline([('reduce_dims', pca), ('tsne', tsne)])\n",
        "\n",
        "    model = decomposition.PCA(n_components=20)\n",
        "\n",
        "    vis_data = model.fit_transform(x_data)\n",
        "\n",
        "    # convert the results into a list of dict\n",
        "    results = []\n",
        "    for i in range(0, len(data)):\n",
        "        results.append({\n",
        "            'id': data['id'][i],\n",
        "            'x': vis_data[i][0],\n",
        "            'y': vis_data[i][1]\n",
        "        })\n",
        "    return results\n"
      ],
      "execution_count": 0,
      "outputs": []
    },
    {
      "metadata": {
        "id": "XNj8PpOiBLhc",
        "colab_type": "code",
        "colab": {}
      },
      "cell_type": "code",
      "source": [
        "def write_tsv(results, output_tsv):\n",
        "    # write to a tab delimited file\n",
        "    with open(output_tsv, 'w') as output:\n",
        "        w = csv.DictWriter(\n",
        "            output, fieldnames=['id', 'x', 'y'], delimiter='\\t',\n",
        "            lineterminator='\\n')\n",
        "        w.writeheader()\n",
        "        w.writerows(results)\n"
      ],
      "execution_count": 0,
      "outputs": []
    },
    {
      "metadata": {
        "id": "s__gx-PCBLhj",
        "colab_type": "code",
        "colab": {}
      },
      "cell_type": "code",
      "source": [
        "file = \"example_features_\"\n",
        "# RESNET\n",
        "data_resnet = pandas.read_csv(file+\"resnet.tsv\", sep='\\t')\n",
        "results_resnet = process(data_resnet)\n",
        "write_tsv(results_resnet, file+\"resnet_tsne.tsv\")\n",
        "\n",
        "# XCEPTION\n",
        "data_xception = pandas.read_csv(file+\"xception.tsv\", sep='\\t')\n",
        "results_xception = process(data_xception)\n",
        "write_tsv(results_xception, file+\"xception_tsne.tsv\")\n",
        "\n",
        "# VGG-16\n",
        "data_vgg16 = pandas.read_csv(file+\"vgg16.tsv\", sep='\\t')\n",
        "results_vgg16 = process(data_vgg16)\n",
        "write_tsv(results_vgg16, file+\"vgg16_tsne.tsv\")\n",
        "\n",
        "# VGG-19\n",
        "data_vgg19 = pandas.read_csv(file+\"vgg19.tsv\", sep='\\t')\n",
        "results_vgg19 = process(data_vgg19)\n",
        "write_tsv(results_vgg19, file+\"vgg19_tsne.tsv\")\n",
        "\n",
        "# INCEPTION-V3\n",
        "data_inceptionv3 = pandas.read_csv(file+\"inceptionv3.tsv\", sep='\\t')\n",
        "results_inceptionv3 = process(data_inceptionv3)\n",
        "write_tsv(results_inceptionv3, file+\"inceptionv3_tsne.tsv\")\n",
        "\n",
        "# MOBILENET\n",
        "data_mobilenet = pandas.read_csv(file+\"mobilenet.tsv\", sep='\\t')\n",
        "results_mobilenet = process(data_mobilenet)\n",
        "write_tsv(results_mobilenet, file+\"mobilenet_tsne.tsv\")"
      ],
      "execution_count": 0,
      "outputs": []
    },
    {
      "metadata": {
        "id": "ojEiyeNOBLhp",
        "colab_type": "code",
        "outputId": "c55cc0d1-c8b1-494f-a186-774a7b12f1f0",
        "colab": {
          "base_uri": "https://localhost:8080/",
          "height": 72
        }
      },
      "cell_type": "code",
      "source": [
        "x = []\n",
        "y = []\n",
        "# RESNET\n",
        "x_resnet = []\n",
        "y_resnet = []\n",
        "for i in results_resnet:\n",
        "    x_resnet.append(i['x'])\n",
        "    y_resnet.append(i['y'])\n",
        "x.append(x_resnet)\n",
        "y.append(y_resnet)\n",
        "    \n",
        "# XCEPTION\n",
        "x_xception = []\n",
        "y_xception = []\n",
        "for i in results_xception:\n",
        "    x_xception.append(i['x'])\n",
        "    y_xception.append(i['y'])\n",
        "x.append(x_xception)\n",
        "y.append(y_xception)\n",
        "    \n",
        "# VGG-16\n",
        "x_vgg16 = []\n",
        "y_vgg16 = []\n",
        "for i in results_vgg16:\n",
        "    x_vgg16.append(i['x'])\n",
        "    y_vgg16.append(i['y'])\n",
        "x.append(x_vgg16)\n",
        "y.append(y_vgg16)\n",
        "    \n",
        "# VGG-19\n",
        "x_vgg19 = []\n",
        "y_vgg19 = []\n",
        "for i in results_vgg19:\n",
        "    x_vgg19.append(i['x'])\n",
        "    y_vgg19.append(i['y'])\n",
        "x.append(x_vgg19)\n",
        "y.append(y_vgg19)\n",
        "    \n",
        "# INCEPTION-V3\n",
        "x_inceptionv3 = []\n",
        "y_inceptionv3 = []\n",
        "for i in results_inceptionv3:\n",
        "    x_inceptionv3.append(i['x'])\n",
        "    y_inceptionv3.append(i['y'])\n",
        "x.append(x_inceptionv3)\n",
        "y.append(y_inceptionv3)\n",
        "    \n",
        "# MOBILENET\n",
        "x_mobilenet = []\n",
        "y_mobilenet = []\n",
        "for i in results_mobilenet:\n",
        "    x_mobilenet.append(i['x'])\n",
        "    y_mobilenet.append(i['y'])\n",
        "x.append(x_mobilenet)\n",
        "y.append(y_mobilenet)\n",
        "\n",
        "print(x)\n",
        "print(y)"
      ],
      "execution_count": 9,
      "outputs": [
        {
          "output_type": "stream",
          "text": [
            "[[9.995608091538433, 14.109602691786161, 3.1635565118162967, -13.029541904229447, 6.045806390077636, -5.188090239969877, 2.7505356901228835, -11.802929647903461, 7.48443925656872, -13.877591158744796, 10.914733243712163, -11.259116837891641, 17.090251178273192, -8.6215075827825, 8.578404172854304, -5.20875255558174, 14.032647683398807, -7.574309814377987, -12.343968073841687, -5.259777094825465], [-55.575240525942164, 108.16386595003716, -88.57955721094143, -117.12474640236327, -9.27414700631036, 385.990652288167, -105.58145425526905, 101.30428735442996, -104.34797670888211, -80.4946288546102, 18.293833535020944, -109.39248496634514, 188.20837750723098, -104.25218358539442, -62.92485419151429, 135.81769196849712, -44.24129969025524, -99.9097760494202, -81.4679282566523, 125.38756910051701], [-58.98503306360705, -56.29207597676705, -37.7264133907408, 73.72328881648221, -46.33931324775142, 39.434136490103036, -31.02643094665248, 18.359788957277306, -54.205033497383056, 48.342282065269316, -57.0453627212972, 69.20649122778009, -69.5495694017778, 104.91283872557487, -64.30197419620727, 24.312653137424697, -58.770420879921424, 15.07640743435557, 114.72573542744321, 26.14800504039533], [-45.7294269557651, -47.716844973743505, -36.933189099587494, 56.14694108199456, -34.94219638501428, 17.72943163632093, -30.84084232733233, 11.68157376818607, -41.09510092803977, 10.205520761768158, -41.46695387693522, 52.1698534924491, -51.56070452159325, 104.35071549316143, -54.77298855282764, -8.366796646089215, -44.8534838447706, -4.580701585418651, 164.81617893618608, 25.75901452705074], [-180.58759978192631, -82.74315306596591, -167.031990580248, 140.01457560507774, 540.5832070097074, 70.02929720055552, -192.67419515355397, 8.508179427659895, -65.17231267803832, 33.75683444784414, 42.99272752356134, 146.6628822925962, 119.31892587069096, -73.02360600783653, 77.21015830040784, 338.05303298852914, -105.1624707391525, -125.18805696181084, -236.49425357284053, -289.0521821252573], [1.0553575939809863, 2.891186722408614, 14.374017226716502, -6.5950080750421165, -0.9427821015679787, -1.3403844634965807, 9.158968842237817, 4.223003161703382, 5.377023774510514, -4.413523688740845, 3.6624257916253247, -3.378200750215076, 3.7149001631891663, -12.582766709962389, 6.918040281992045, -7.723166921895414, -0.27232476041091047, 0.7634316631613417, -13.263899552233884, -1.6262981979604911]]\n",
            "[[-3.6203106182532867, 2.586399550878011, 19.45689356611537, 4.709741909353747, -11.549416407041786, 3.6928307290256996, 0.12248470165207806, 9.267581970160593, -0.43954664717225217, -7.732084709062668, 0.7891814857883944, 1.6287388385073571, -4.399540551630344, -3.355628819897567, 2.6875016468204587, -13.093879476573711, 0.47632130422333585, -3.3046044420711675, -5.288399223025148, 7.365735192202862], [-22.184943713630116, -4.388622266767823, -13.826856764724356, 4.8566130757083785, 23.268501921708225, -32.92525226089154, 11.554885401344483, 60.513416554471235, -4.257961603492838, -2.5894569396114733, -8.287570568348428, 2.7627570883799244, -88.79396905901, 1.040893963660612, -20.3250646475947, 34.03179216392242, -26.720497092391888, -8.351490242758146, -16.627012714559065, 111.24983770458512], [-2.616336341957091, -6.4613469600413165, -17.900660323596185, -2.399429981141502, -2.77277205509836, -33.96698484339232, -12.057156039744696, -25.18979004779056, 20.500475580819607, 12.69809163820327, -19.94234594879502, 14.123015062740189, -11.924134378263064, 32.96142072600805, -4.570849502675254, 106.29212770379088, -22.4755820417449, 116.14328451876058, -89.18713109290394, -51.25389567317845], [-29.298246473996407, -21.32054904223457, -3.253859265294356, 35.96527113042768, -19.760487545263643, 4.336841531917799, -21.44427206684425, 2.9899272613903, -17.141917743421484, 21.24325403784067, -27.677256773960725, 32.554206324448415, -22.702664862622925, 14.942386731462063, -11.371016618646541, 66.46959190315548, -39.76567661397868, 113.30243399787891, -84.69730123269912, 6.62933532044143], [-54.55166930550831, 52.69432456539671, -37.69782298910759, -51.07891504932684, -266.5292217282896, 155.86852991359683, -21.810493242900552, 160.8327198641487, -79.917019685548, -160.09025112896848, 274.179428631938, -76.92756624569923, 386.08060555975163, -72.78507720454911, -111.83738441895943, 92.52847677861432, 55.821573441935364, -68.02616376389099, -97.29809910272203, -79.45597488991116], [-0.26325985260360807, -5.6092706599814655, -2.4050639678007264, 1.6338636441422612, 4.803613470080967, -8.173324322831652, 7.330268322651582, -2.114760046899869, 4.80181248723332, -0.9891938922738431, -8.531668214471114, 6.453981098776558, -6.012758301754734, 3.4849433542910653, 2.994180168031119, -1.8218928192054684, 3.4769490096865527, 12.350082795093485, -2.0999763806730156, -9.308525891491406]]\n"
          ],
          "name": "stdout"
        }
      ]
    },
    {
      "metadata": {
        "id": "jHa5xUb6BLht",
        "colab_type": "code",
        "outputId": "c33e1433-4394-4776-ba1c-cee9e8cee01c",
        "colab": {
          "base_uri": "https://localhost:8080/",
          "height": 269
        }
      },
      "cell_type": "code",
      "source": [
        "\n",
        "for i in range(1,7):\n",
        "  plt.subplot(2,3,i)\n",
        "  plt.scatter(x[i-1], y[i-1], label= \"stars\", color= \"green\", marker= \"*\", s=30) \n",
        "\n",
        "\n",
        "#plt.scatter(x[2], y[2], label= \"stars\", color= \"green\",  \n",
        "            #marker= \"*\", s=30) "
      ],
      "execution_count": 10,
      "outputs": [
        {
          "output_type": "display_data",
          "data": {
            "image/png": "[encoded data removed]",
            "text/plain": [
              "<Figure size 432x288 with 6 Axes>"
            ]
          },
          "metadata": {
            "tags": []
          }
        }
      ]
    },
    {
      "metadata": {
        "id": "0lq6Rb7RXScx",
        "colab_type": "text"
      },
      "cell_type": "markdown",
      "source": [
        "APPLYING KMEANS"
      ]
    },
    {
      "metadata": {
        "id": "YOQ-m-FtZW9g",
        "colab_type": "code",
        "outputId": "d2064318-2bf0-437a-a08c-4f9c55fb9d17",
        "colab": {
          "base_uri": "https://localhost:8080/",
          "height": 159
        }
      },
      "cell_type": "code",
      "source": [
        "from sklearn.cluster import KMeans\n",
        "li = [\"cat\",\"cat\",\"cat\",\"dog\",\"cat\",\"dog\",\"cat\",\"dog\",\"cat\",\"dog\",\"cat\",\"dog\"\n",
        "      ,\"cat\",\"dog\",\"cat\",\"dog\",\"cat\",\"dog\",\"cat\",\"dog\",\"dog\"]\n",
        "print(li)\n",
        "# RESNET \n",
        "f_res = [d.split(',') for d in data_resnet['features']]\n",
        "resnet = KMeans(n_clusters=2,random_state=0).fit(f_res)\n",
        "print(resnet.labels_)\n",
        "\n",
        "# XCEPTION\n",
        "f_xce = [d.split(',') for d in data_xception['features']]\n",
        "xception = KMeans(n_clusters=2,random_state=0).fit(f_xce)\n",
        "print(xception.labels_)\n",
        "\n",
        "# VGG-16\n",
        "f_vgg16 = [d.split(',') for d in data_vgg16['features']]\n",
        "vgg16 = KMeans(n_clusters=2,random_state=0).fit(f_vgg16)\n",
        "print(vgg16.labels_)\n",
        "\n",
        "# VGG-19\n",
        "f_vgg19 = [d.split(',') for d in data_vgg19['features']]\n",
        "vgg19 = KMeans(n_clusters=2,random_state=0).fit(f_vgg19)\n",
        "print(vgg19.labels_)\n",
        "\n",
        "# INCEPTION-V3\n",
        "f_inc = [d.split(',') for d in data_inceptionv3['features']]\n",
        "inceptionv3 = KMeans(n_clusters=2,random_state=0).fit(f_inc)\n",
        "print(inceptionv3.labels_)\n",
        "\n",
        "# MOBILENET\n",
        "f_mob = [d.split(',') for d in data_mobilenet['features']]\n",
        "mobilenet = KMeans(n_clusters=2,random_state=0).fit(f_mob)\n",
        "print(mobilenet.labels_)"
      ],
      "execution_count": 12,
      "outputs": [
        {
          "output_type": "stream",
          "text": [
            "['cat', 'cat', 'cat', 'dog', 'cat', 'dog', 'cat', 'dog', 'cat', 'dog', 'cat', 'dog', 'cat', 'dog', 'cat', 'dog', 'cat', 'dog', 'cat', 'dog', 'dog']\n",
            "[1 1 1 0 1 0 1 0 1 0 1 0 1 0 1 0 1 0 0 0]\n",
            "[1 0 1 1 1 0 1 0 1 1 1 1 0 1 1 0 1 1 1 0]\n",
            "[0 0 0 1 0 1 0 1 0 1 0 1 0 1 0 1 0 1 1 1]\n",
            "[1 1 1 1 1 1 1 1 1 1 1 1 1 0 1 1 1 1 0 1]\n",
            "[0 0 0 1 1 1 0 1 0 1 1 1 1 0 1 1 0 0 0 0]\n",
            "[1 1 1 0 0 1 1 1 1 0 1 0 1 0 1 0 1 0 0 1]\n"
          ],
          "name": "stdout"
        }
      ]
    }
  ]
}